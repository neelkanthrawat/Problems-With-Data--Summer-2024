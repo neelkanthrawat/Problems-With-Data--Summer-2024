{
 "cells": [
  {
   "cell_type": "code",
   "execution_count": 1,
   "metadata": {},
   "outputs": [
    {
     "name": "stderr",
     "output_type": "stream",
     "text": [
      "[nltk_data] Downloading package stopwords to C:\\Users\\NEELKANTH\n",
      "[nltk_data]     RAWAT\\AppData\\Roaming\\nltk_data...\n",
      "[nltk_data]   Package stopwords is already up-to-date!\n"
     ]
    }
   ],
   "source": [
    "import re\n",
    "import nltk\n",
    "from nltk.corpus import stopwords\n",
    "nltk.download('stopwords')\n",
    "\n",
    "# Load stop words\n",
    "stop_words = set(stopwords.words('english'))"
   ]
  },
  {
   "cell_type": "code",
   "execution_count": 2,
   "metadata": {},
   "outputs": [],
   "source": [
    "# Function to apply filter 1: Check common non-stop-words\n",
    "def filter1(headline, first_sentence):\n",
    "    headline_words = set(headline.lower().split()) - stop_words\n",
    "    sentence_words = set(first_sentence.lower().split()) - stop_words\n",
    "    common_words = headline_words & sentence_words\n",
    "    return len(common_words) > 0\n",
    "\n",
    "# Function to apply filter 2: Check for bylines or extraneous marks\n",
    "def filter2(headline):\n",
    "    byline_pattern = re.compile(r'by\\s+\\w+', re.IGNORECASE)\n",
    "    extraneous_marks = ['—', '--']\n",
    "    if byline_pattern.search(headline):\n",
    "        return False\n",
    "    if any(mark in headline for mark in extraneous_marks):\n",
    "        return False\n",
    "    return True\n",
    "\n",
    "# Function to apply filter 3: Check for question marks or colons\n",
    "def filter3(headline):\n",
    "    return not (':' in headline or '?' in headline)"
   ]
  },
  {
   "cell_type": "markdown",
   "metadata": {},
   "source": [
    "### Giving ID to each of the line"
   ]
  },
  {
   "cell_type": "code",
   "execution_count": 3,
   "metadata": {},
   "outputs": [],
   "source": [
    "def add_ids_to_file(input_file, output_file):\n",
    "    with open(input_file, 'r') as infile, open(output_file, 'w') as outfile:\n",
    "        lines = infile.readlines()\n",
    "        for idx, line in enumerate(lines, start=1):\n",
    "            outfile.write(f\"{idx}\\t{line}\")\n",
    "\n",
    "# Specify the path to the input and output files\n",
    "input_file = 'alignedtest.txt'\n",
    "output_file = 'alignedtest_with_ids.txt'\n",
    "\n",
    "# Add IDs to the file\n",
    "add_ids_to_file(input_file, output_file)\n"
   ]
  },
  {
   "cell_type": "code",
   "execution_count": 4,
   "metadata": {},
   "outputs": [],
   "source": [
    "def check_filters(test_file):\n",
    "    with open(test_file, 'r') as file:\n",
    "        lines = file.readlines()\n",
    "\n",
    "    total_pairs = len(lines)\n",
    "    filter1_pass = 0\n",
    "    filter2_pass = 0\n",
    "    filter3_pass = 0\n",
    "    all_filters_pass = 0\n",
    "\n",
    "    filter1_fail_ids = []\n",
    "    filter2_fail_ids = []\n",
    "    filter3_fail_ids = []\n",
    "\n",
    "    for line in lines:\n",
    "        parts = line.strip().split('\\t')\n",
    "        idx, first_sentence, headline = parts[0], parts[1], parts[2]\n",
    "        \n",
    "        pass_filter1 = filter1(headline, first_sentence)\n",
    "        pass_filter2 = filter2(headline)\n",
    "        pass_filter3 = filter3(headline)\n",
    "\n",
    "        if pass_filter1:\n",
    "            filter1_pass += 1\n",
    "        else:\n",
    "            filter1_fail_ids.append(idx)\n",
    "\n",
    "        if pass_filter2:\n",
    "            filter2_pass += 1\n",
    "        else:\n",
    "            filter2_fail_ids.append(idx)\n",
    "\n",
    "        if pass_filter3:\n",
    "            filter3_pass += 1\n",
    "        else:\n",
    "            filter3_fail_ids.append(idx)\n",
    "\n",
    "        if pass_filter1 and pass_filter2 and pass_filter3:\n",
    "            all_filters_pass += 1\n",
    "\n",
    "    print(f'Total pairs: {total_pairs}')\n",
    "    print(f'Pairs passing filter 1: {filter1_pass} ({(filter1_pass / total_pairs) * 100:.2f}%)')\n",
    "    print(f'Pairs passing filter 2: {filter2_pass} ({(filter2_pass / total_pairs) * 100:.2f}%)')\n",
    "    print(f'Pairs passing filter 3: {filter3_pass} ({(filter3_pass / total_pairs) * 100:.2f}%)')\n",
    "    print(f'Pairs passing all filters: {all_filters_pass} ({(all_filters_pass / total_pairs) * 100:.2f}%)')\n",
    "\n",
    "    return {\n",
    "        'filter1_fail_ids': filter1_fail_ids,\n",
    "        'filter2_fail_ids': filter2_fail_ids,\n",
    "        'filter3_fail_ids': filter3_fail_ids\n",
    "    }"
   ]
  },
  {
   "cell_type": "code",
   "execution_count": 5,
   "metadata": {},
   "outputs": [
    {
     "name": "stdout",
     "output_type": "stream",
     "text": [
      "Total pairs: 1951\n",
      "Pairs passing filter 1: 1645 (84.32%)\n",
      "Pairs passing filter 2: 1798 (92.16%)\n",
      "Pairs passing filter 3: 1602 (82.11%)\n",
      "Pairs passing all filters: 1246 (63.86%)\n",
      "IDs of a few lines failing filter 1: ['10', '44', '66', '82', '91']\n",
      "IDs of a few lines failing filter 2: ['6', '11', '23', '25', '27']\n",
      "IDs of a few lines failing filter 3: ['6', '41', '42', '43', '51']\n"
     ]
    }
   ],
   "source": [
    "# Specify the path to the test set file with IDs\n",
    "test_file = 'alignedtest_with_ids.txt'\n",
    "\n",
    "# Run the filter checks and get the IDs of lines that do not pass the filters\n",
    "failed_ids = check_filters(test_file)\n",
    "print(f\"IDs of a few lines failing filter 1: {failed_ids['filter1_fail_ids'][:5]}\")\n",
    "print(f\"IDs of a few lines failing filter 2: {failed_ids['filter2_fail_ids'][:5]}\")\n",
    "print(f\"IDs of a few lines failing filter 3: {failed_ids['filter3_fail_ids'][:5]}\")"
   ]
  },
  {
   "cell_type": "code",
   "execution_count": 6,
   "metadata": {},
   "outputs": [
    {
     "name": "stdout",
     "output_type": "stream",
     "text": [
      "Total pairs: 1951\n",
      "Pairs passing filter 1: 1645 (84.32%)\n",
      "Pairs passing filter 2: 1798 (92.16%)\n",
      "Pairs passing filter 3: 1602 (82.11%)\n",
      "Pairs passing all filters: 1246 (63.86%)\n",
      "\n",
      "Examples of statements failing filter 1:\n",
      "ID: 1208, Sentence: UNK lindner watches her boys asleep in a sofa bed ., Headline: keeping together in tough times\n",
      "ID: 1838, Sentence: UNK, Headline: britons ready to pay more on health services\n",
      "ID: 1572, Sentence: st. louis - it 's been so long now - eight years - that the gold medal seems as if it happened to someone else ., Headline: lipinski treasures golden memories\n",
      "\n",
      "Examples of statements failing filter 2:\n",
      "ID: 662, Sentence: the shape of india 's future government could be decided sunday as politicians huddled into meetings to work out alliances between parties and cobble together a coalition ., Headline: parties meet to work out a coalition to rule india by UNK roy\n",
      "ID: 119, Sentence: the launch of a long-range north korean missile would provide the first real test of a us missile defense system that has cost billions of dollars to build and is still in development , analysts said tuesday ., Headline: us missile defenses likely activated for north korean test : analysts by jim UNK\n",
      "ID: 67, Sentence: ministers from ## african nations and the united states are to hold annual talks this week aimed at devising strategies for a vibrant private sector in africa and stepping up trade ., Headline: africa us to devise private sector growth strategy by p. UNK\n",
      "\n",
      "Examples of statements failing filter 3:\n",
      "ID: 295, Sentence: david beckham 's career should be over , england 's #### world cup winner martin peters said following the la galaxy midfielder 's run of substitute appearances ., Headline: football : beckham career should be over says world cup winner peters\n",
      "ID: 1917, Sentence: strong earthquake aftershocks were felt in major pakistani cities of islamabad , mansehra , muzaffarabad and UNK at about #:## a.m. on sunday ., Headline: china 's economic efficiency indicators : food manufacturing\n",
      "ID: 286, Sentence: villarreal coach manuel pellegrini was understandably disappointed at dropping two points in the title race as malaga scored a ##th minute equaliser to snatch a #-# draw on sunday ., Headline: football : pellegrini rues dropped villarreal points\n"
     ]
    }
   ],
   "source": [
    "import random\n",
    "\n",
    "# Load the test file to get statements\n",
    "def load_statements(test_file):\n",
    "    with open(test_file, 'r') as file:\n",
    "        lines = file.readlines()\n",
    "\n",
    "    statements = {}\n",
    "    for line in lines:\n",
    "        parts = line.strip().split('\\t')\n",
    "        idx, first_sentence, headline = parts[0], parts[1], parts[2]\n",
    "        statements[idx] = (first_sentence, headline)\n",
    "\n",
    "    return statements\n",
    "\n",
    "# Print random examples of statements failing each filter\n",
    "def print_filter_examples(statements, failed_ids, filter_num):\n",
    "    print(f\"\\nExamples of statements failing filter {filter_num}:\")\n",
    "    for _ in range(3):\n",
    "        idx = random.choice(failed_ids)\n",
    "        if idx in statements:\n",
    "            print(f\"ID: {idx}, Sentence: {statements[idx][0]}, Headline: {statements[idx][1]}\")\n",
    "        else:\n",
    "            print(f\"No statement found for ID: {idx}\")\n",
    "\n",
    "# Specify the path to the test set file with IDs\n",
    "test_file = 'alignedtest_with_ids.txt'\n",
    "\n",
    "# Run the filter checks and get the IDs of lines that do not pass the filters\n",
    "failed_ids = check_filters(test_file)\n",
    "\n",
    "# Load statements\n",
    "statements = load_statements(test_file)\n",
    "\n",
    "# Print examples for each filter\n",
    "print_filter_examples(statements, failed_ids['filter1_fail_ids'], 1)\n",
    "print_filter_examples(statements, failed_ids['filter2_fail_ids'], 2)\n",
    "print_filter_examples(statements, failed_ids['filter3_fail_ids'], 3)\n"
   ]
  }
 ],
 "metadata": {
  "kernelspec": {
   "display_name": "base",
   "language": "python",
   "name": "python3"
  },
  "language_info": {
   "codemirror_mode": {
    "name": "ipython",
    "version": 3
   },
   "file_extension": ".py",
   "mimetype": "text/x-python",
   "name": "python",
   "nbconvert_exporter": "python",
   "pygments_lexer": "ipython3",
   "version": "3.8.8"
  }
 },
 "nbformat": 4,
 "nbformat_minor": 2
}
