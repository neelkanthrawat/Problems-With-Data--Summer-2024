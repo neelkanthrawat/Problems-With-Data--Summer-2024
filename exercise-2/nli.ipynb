{
 "cells": [
  {
   "cell_type": "code",
   "execution_count": 1,
   "metadata": {},
   "outputs": [],
   "source": [
    "# !pip install transformers # done\n"
   ]
  },
  {
   "cell_type": "code",
   "execution_count": 2,
   "metadata": {},
   "outputs": [
    {
     "name": "stdout",
     "output_type": "stream",
     "text": [
      "{'sequence': 'Angela Merkel is a politician in Germany and leader of the CDU', 'labels': ['politics', 'environment', 'economy', 'entertainment'], 'scores': [0.9967535734176636, 0.0014776686439290643, 0.0012541556498035789, 0.0005145781906321645]}\n"
     ]
    }
   ],
   "source": [
    "from transformers import pipeline\n",
    "classifier = pipeline(\"zero-shot-classification\", model=\"MoritzLaurer/DeBERTa-v3-large-mnli-fever-anli-ling-wanli\")\n",
    "sequence_to_classify = \"Angela Merkel is a politician in Germany and leader of the CDU\"\n",
    "candidate_labels = [\"politics\", \"economy\", \"entertainment\", \"environment\"]\n",
    "output = classifier(sequence_to_classify, candidate_labels, multi_label=False)\n",
    "print(output)"
   ]
  },
  {
   "cell_type": "code",
   "execution_count": 3,
   "metadata": {},
   "outputs": [],
   "source": [
    "from transformers import AutoTokenizer, AutoModelForSequenceClassification\n",
    "import torch\n",
    "from transformers import pipeline"
   ]
  },
  {
   "cell_type": "code",
   "execution_count": 4,
   "metadata": {},
   "outputs": [],
   "source": [
    "# device = torch.device(\"cuda\") if torch.cuda.is_available() else torch.device(\"cpu\")\n",
    "### This code-cell took way too long to load for some reason\n",
    "device = \"cpu\"\n",
    "\n",
    "model_name = \"MoritzLaurer/DeBERTa-v3-large-mnli-fever-anli-ling-wanli\"\n",
    "tokenizer = AutoTokenizer.from_pretrained(model_name)\n",
    "model = AutoModelForSequenceClassification.from_pretrained(model_name)\n"
   ]
  },
  {
   "cell_type": "code",
   "execution_count": 5,
   "metadata": {},
   "outputs": [
    {
     "name": "stdout",
     "output_type": "stream",
     "text": [
      "{'entailment': 98.6, 'neutral': 1.0, 'contradiction': 0.3}\n"
     ]
    }
   ],
   "source": [
    "eg1_p, eg1_h = \"Inflation in Venezuela\", \"High prices in Venezuela\"#\"He snored\", \"He slept\"\n",
    "eg2_p, eg2_h = \"The sun will shine\", \"Rain Falls\"\n",
    "eg3_p, eg3_h= \"the bank of japan appealed to financial markets to remain calm friday following the us decision to order daiwa bank ltd. to close its us operations .\", \"daiwa bank ltd. to close its us operations\"\n",
    "\n",
    "premise, hypothesis = eg3_p, eg3_h#eg1_p, eg1_h\n",
    "\n",
    "input = tokenizer(premise, hypothesis, truncation=True, return_tensors=\"pt\")\n",
    "output = model(input[\"input_ids\"].to(device))  # device = \"cuda:0\" or \"cpu\"\n",
    "prediction = torch.softmax(output[\"logits\"][0], -1).tolist()\n",
    "label_names = [\"entailment\", \"neutral\", \"contradiction\"]\n",
    "prediction = {name: round(float(pred) * 100, 1) for pred, name in zip(prediction, label_names)}\n",
    "print(prediction)\n"
   ]
  },
  {
   "cell_type": "markdown",
   "metadata": {},
   "source": [
    "Let's change everything to functions"
   ]
  },
  {
   "cell_type": "code",
   "execution_count": 6,
   "metadata": {},
   "outputs": [],
   "source": [
    "from tqdm import tqdm\n",
    "def load_model():\n",
    "    device = torch.device(\"cuda\") if torch.cuda.is_available() else torch.device(\"cpu\")\n",
    "    model_name = \"MoritzLaurer/DeBERTa-v3-large-mnli-fever-anli-ling-wanli\"\n",
    "    tokenizer = AutoTokenizer.from_pretrained(model_name)\n",
    "    model = AutoModelForSequenceClassification.from_pretrained(model_name).to(device)\n",
    "    return tokenizer, model, device\n",
    "\n",
    "def classify_nli(tokenizer, model, device, premise, hypothesis):\n",
    "    inputs = tokenizer(premise, hypothesis, truncation=True, return_tensors=\"pt\").to(device)\n",
    "    with torch.no_grad():\n",
    "        outputs = model(**inputs)\n",
    "    prediction = torch.softmax(outputs.logits, dim=-1)[0]\n",
    "    label_names = [\"entailment\", \"neutral\", \"contradiction\"]\n",
    "    prediction_scores = {name: round(float(pred) * 100, 1) for pred, name in zip(prediction, label_names)}\n",
    "    predicted_label = label_names[torch.argmax(prediction)]\n",
    "    return predicted_label, prediction_scores\n",
    "\n",
    "def process_file(input_file, output_file):\n",
    "    tokenizer, model, device = load_model()\n",
    "    with open(input_file, \"r\") as infile, open(output_file, \"w\") as outfile:\n",
    "        lines = infile.readlines()\n",
    "        for line in tqdm(lines, desc=\"Processing pairs\"):\n",
    "            premise, hypothesis = line.strip().split(\"\\t\")\n",
    "            predicted_label, prediction_scores = classify_nli(tokenizer, model, device, premise, hypothesis)\n",
    "            outfile.write(f\"{premise}\\t{hypothesis}\\t{predicted_label}\\t{prediction_scores}\\n\")\n"
   ]
  },
  {
   "cell_type": "markdown",
   "metadata": {},
   "source": [
    "NLI annotation for 30 examples:"
   ]
  },
  {
   "cell_type": "code",
   "execution_count": 7,
   "metadata": {},
   "outputs": [
    {
     "name": "stderr",
     "output_type": "stream",
     "text": [
      "Processing pairs: 100%|██████████| 30/30 [00:12<00:00,  2.42it/s]\n"
     ]
    }
   ],
   "source": [
    "if __name__ == \"__main__\":\n",
    "    input_file = \"D:\\\\Desktop\\\\master_scientific_computing\\\\second_semester\\\\problems with data\\\\Problems-With-Data--Summer-2024\\\\exercise-2\\\\task2-3\\\\toannotate.txt\"\n",
    "    output_file = \"nli_results.txt\"\n",
    "    process_file(input_file, output_file)\n"
   ]
  },
  {
   "cell_type": "markdown",
   "metadata": {},
   "source": [
    "NLI annotation for the entire dataset:"
   ]
  },
  {
   "cell_type": "code",
   "execution_count": 8,
   "metadata": {},
   "outputs": [
    {
     "name": "stderr",
     "output_type": "stream",
     "text": [
      "Processing pairs: 100%|██████████| 1951/1951 [07:54<00:00,  4.12it/s]\n"
     ]
    }
   ],
   "source": [
    "if __name__ == \"__main__\":\n",
    "    input_file = \"alignedtest.txt\"\n",
    "    output_file = \"nli_results_whole_dataset.txt\"\n",
    "    process_file(input_file, output_file)"
   ]
  },
  {
   "cell_type": "markdown",
   "metadata": {},
   "source": [
    "### Binary predictions:"
   ]
  },
  {
   "cell_type": "code",
   "execution_count": 9,
   "metadata": {},
   "outputs": [],
   "source": [
    "### We will use Aharoni et al 2022 and generate binary label Entailement or Non-Entailement (contradiction/neutral)\n",
    "### if entailment score > both neutral score and contradiction score, then label it as E otherwise NE\n",
    "def generate_binary_predictions(input_file, output_file):\n",
    "    with open(input_file, \"r\") as infile, open(output_file, \"w\") as outfile:\n",
    "        for line in infile:\n",
    "            premise, hypothesis, predicted_label, prediction_scores_str = line.strip().split(\"\\t\")\n",
    "            prediction_scores = eval(prediction_scores_str)\n",
    "            entailment_score = prediction_scores['entailment']\n",
    "            neutral_score = prediction_scores['neutral']\n",
    "            contradiction_score = prediction_scores['contradiction']\n",
    "            \n",
    "            if entailment_score > neutral_score and entailment_score > contradiction_score:\n",
    "                binary_label = \"E\"\n",
    "            else:\n",
    "                binary_label = \"NE\"\n",
    "            \n",
    "            outfile.write(f\"{premise}\\t{hypothesis}\\t{binary_label}\\n\")\n",
    "\n",
    "# Example usage:\n",
    "input_file = \"nli_results.txt\"\n",
    "output_file = \"nli_binary_predictions.txt\"\n",
    "generate_binary_predictions(input_file, output_file)\n"
   ]
  },
  {
   "cell_type": "markdown",
   "metadata": {},
   "source": [
    "### Let's compare it against our manual annotations"
   ]
  },
  {
   "cell_type": "code",
   "execution_count": 10,
   "metadata": {},
   "outputs": [],
   "source": [
    "import pandas as pd\n",
    "from sklearn.metrics import confusion_matrix, precision_recall_fscore_support\n",
    "import json\n",
    "\n",
    "import matplotlib.pyplot as plt\n",
    "import seaborn as sns\n"
   ]
  },
  {
   "cell_type": "code",
   "execution_count": 11,
   "metadata": {},
   "outputs": [],
   "source": [
    "def load_annotations(file_path):\n",
    "    data = []\n",
    "    with open(file_path, \"r\") as file:\n",
    "        for line in file:\n",
    "            premise, hypothesis, annotation = line.strip().split(\"\\t\")\n",
    "            data.append((premise, hypothesis, annotation))\n",
    "    return pd.DataFrame(data, columns=[\"Premise\", \"Hypothesis\", \"Annotation\"])\n",
    "\n",
    "def load_nli_results(file_path):\n",
    "    data = []\n",
    "    with open(file_path, \"r\") as file:\n",
    "        for line in file:\n",
    "            parts = line.strip().split(\"\\t\")\n",
    "            premise, hypothesis, predicted_label = parts[0], parts[1], parts[2]\n",
    "            # Try to parse the prediction_scores, ensure it's a proper JSON format\n",
    "            try:\n",
    "                prediction_scores = json.loads(parts[3].replace(\"'\", \"\\\"\"))  # Ensure double quotes for JSON\n",
    "            except json.JSONDecodeError as e:\n",
    "                print(f\"Error decoding JSON for line: {line}\")\n",
    "                continue\n",
    "            data.append((premise, hypothesis, predicted_label, prediction_scores))\n",
    "    return pd.DataFrame(data, columns=[\"Premise\", \"Hypothesis\", \"Predicted_Label\", \"Prediction_Scores\"])\n",
    "\n",
    "\n",
    "def load_nli_binary_predictions(file_path):\n",
    "    data = []\n",
    "    with open(file_path, \"r\") as file:\n",
    "        for line in file:\n",
    "            premise, hypothesis, binary_label = line.strip().split(\"\\t\")\n",
    "            data.append((premise, hypothesis, binary_label))\n",
    "    return pd.DataFrame(data, columns=[\"Premise\", \"Hypothesis\", \"Predicted_Label_2_Class\"])\n",
    "\n",
    "\n",
    "def convert_to_2_class(label):\n",
    "    return \"E\" if label == \"entailment\" else \"NE\"\n",
    "\n",
    "def plot_confusion_matrix(cm, labels):\n",
    "    plt.figure(figsize=(8, 6))\n",
    "    sns.heatmap(cm, annot=True, fmt='d', cmap='Blues', xticklabels=labels, yticklabels=labels)\n",
    "    plt.xlabel('Predicted Label')\n",
    "    plt.ylabel('True Label')\n",
    "    plt.title('Confusion Matrix')\n",
    "    plt.show()\n",
    "\n"
   ]
  },
  {
   "cell_type": "code",
   "execution_count": 12,
   "metadata": {},
   "outputs": [],
   "source": [
    "def load_binary_predictions(file_path):\n",
    "    data = []\n",
    "    with open(file_path, \"r\") as file:\n",
    "        for line in file:\n",
    "            premise, hypothesis, binary_label = line.strip().split(\"\\t\")\n",
    "            data.append((premise, hypothesis, binary_label))\n",
    "    return pd.DataFrame(data, columns=[\"Premise\", \"Hypothesis\", \"Predicted_Label_2_Class\"])\n",
    "\n",
    "def evaluate_annotations_vs_nli(annotations_df, nli_df):\n",
    "    # Merge annotations and NLI results on premise and hypothesis\n",
    "    merged_df = pd.merge(annotations_df, nli_df, on=[\"Premise\", \"Hypothesis\"])\n",
    "    \n",
    "    # Compute confusion matrix and evaluation metrics\n",
    "    y_true = merged_df[\"Annotation\"]\n",
    "    y_pred = merged_df[\"Predicted_Label_2_Class\"]\n",
    "    \n",
    "    cm = confusion_matrix(y_true, y_pred, labels=[\"E\", \"NE\"])\n",
    "    precision, recall, f1, _ = precision_recall_fscore_support(y_true, y_pred, labels=[\"E\", \"NE\"], average=None)\n",
    "    \n",
    "    return cm, precision, recall, f1"
   ]
  },
  {
   "cell_type": "code",
   "execution_count": 16,
   "metadata": {},
   "outputs": [
    {
     "name": "stdout",
     "output_type": "stream",
     "text": [
      "Confusion Matrix:\n",
      "[[14  1]\n",
      " [ 9  6]]\n",
      "Precision: [0.60869565 0.85714286]\n",
      "Recall: [0.93333333 0.4       ]\n",
      "F1 Score: [0.73684211 0.54545455]\n"
     ]
    },
    {
     "data": {
      "image/png": "[encoded data removed]",
      "text/plain": [
       "<Figure size 576x432 with 2 Axes>"
      ]
     },
     "metadata": {
      "needs_background": "light"
     },
     "output_type": "display_data"
    }
   ],
   "source": [
    "def main():\n",
    "    annotations_file = \"toannotate_Neelkanth_Rawat.txt\"#\"D:\\\\Desktop\\\\master_scientific_computing\\\\second_semester\\\\problems with data\\\\Problems-With-Data--Summer-2024\\\\exercise-2\\\\task2-3\\\\toannotate_Neelkanth_Rawat.txt\"\n",
    "    nli_binary_predictions_file = \"nli_binary_predictions.txt\"\n",
    "\n",
    "    annotations_df = load_annotations(annotations_file)\n",
    "    nli_df = load_binary_predictions(nli_binary_predictions_file)\n",
    "\n",
    "    cm, precision, recall, f1 = evaluate_annotations_vs_nli(annotations_df, nli_df)\n",
    "    print(\"Confusion Matrix:\")\n",
    "    print(cm)\n",
    "    print(\"Precision:\", precision)\n",
    "    print(\"Recall:\", recall)\n",
    "    print(\"F1 Score:\", f1)\n",
    "    \n",
    "    plot_confusion_matrix(cm, labels=[\"E\", \"NE\"])\n",
    "\n",
    "if __name__ == \"__main__\":\n",
    "    main()\n"
   ]
  },
  {
   "cell_type": "markdown",
   "metadata": {},
   "source": [
    "Task 3.3"
   ]
  },
  {
   "cell_type": "code",
   "execution_count": 14,
   "metadata": {},
   "outputs": [],
   "source": [
    "### generating binary NLI annotations for the entire dataset (need for task 3.3)\n",
    "input_all_nli= \"nli_results_whole_dataset.txt\"\n",
    "output_nli_binary = \"nli_whole_dataset_binary_preds.txt\"\n",
    "generate_binary_predictions(input_all_nli, output_nli_binary)"
   ]
  },
  {
   "cell_type": "code",
   "execution_count": 15,
   "metadata": {},
   "outputs": [
    {
     "name": "stdout",
     "output_type": "stream",
     "text": [
      "Number of 'E' (Entailed) labels: 866\n",
      "Number of 'NE' (Non-Entailed) labels: 1085\n",
      "Overall % of NE: 55.61%\n"
     ]
    }
   ],
   "source": [
    "# Filename of your data file\n",
    "filename = 'nli_whole_dataset_binary_preds.txt'\n",
    "\n",
    "# Initialize counters\n",
    "count_E = 0\n",
    "count_NE = 0\n",
    "\n",
    "# Read the file\n",
    "with open(filename, 'r', encoding='utf-8') as file:\n",
    "    for line in file:\n",
    "        # Split the line by tabspace to get the label\n",
    "        parts = line.strip().split('\\t')\n",
    "        if len(parts) == 3:\n",
    "            label = parts[2]\n",
    "            if label == 'E':\n",
    "                count_E += 1\n",
    "            elif label == 'NE':\n",
    "                count_NE += 1\n",
    "\n",
    "# Print the counts\n",
    "print(f\"Number of 'E' (Entailed) labels: {count_E}\")\n",
    "print(f\"Number of 'NE' (Non-Entailed) labels: {count_NE}\")\n",
    "print(f\"Overall % of NE: {(count_NE/(count_E+count_NE))*100:.2f}%\")"
   ]
  },
  {
   "cell_type": "code",
   "execution_count": null,
   "metadata": {},
   "outputs": [],
   "source": []
  }
 ],
 "metadata": {
  "kernelspec": {
   "display_name": "base",
   "language": "python",
   "name": "python3"
  },
  "language_info": {
   "codemirror_mode": {
    "name": "ipython",
    "version": 3
   },
   "file_extension": ".py",
   "mimetype": "text/x-python",
   "name": "python",
   "nbconvert_exporter": "python",
   "pygments_lexer": "ipython3",
   "version": "3.8.8"
  }
 },
 "nbformat": 4,
 "nbformat_minor": 2
}
