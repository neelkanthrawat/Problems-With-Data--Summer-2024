{
 "cells": [
  {
   "cell_type": "markdown",
   "id": "924944399a08b541",
   "metadata": {},
   "source": [
    "# Step 1: Initializing with Majority Vote\n",
    "We start by creating the majority vote initialization for the hidden labels. For each item, we choose the label that has been assigned the most frequently by the annotators."
   ]
  },
  {
   "cell_type": "markdown",
   "id": "b9d0710b6956ef9",
   "metadata": {},
   "source": [
    "# Step 2: E-step and M-step of the Dawid and Skene Algorithm\n",
    "The E-step involves calculating the probability that each item belongs to each class given the current estimates of the confusion matrices and the class probabilities. The M-step updates these estimates based on the probabilities from the E-step."
   ]
  },
  {
   "cell_type": "markdown",
   "id": "b15dfccb86a30b9c",
   "metadata": {},
   "source": [
    "# Step 3: Convergence Criteria\n",
    "A reasonable convergence criterion would be to stop when the change in the estimated label probabilities is below a certain threshold or after a fixed number of iterations. Let's implement this criterion."
   ]
  },
  {
   "cell_type": "code",
   "execution_count": null,
   "id": "703bfc39",
   "metadata": {},
   "outputs": [],
   "source": [
    "import numpy as np\n",
    "from scipy.stats import mode\n",
    "import matplotlib.pyplot as plt"
   ]
  },
  {
   "cell_type": "code",
   "execution_count": null,
   "id": "ee29348a",
   "metadata": {},
   "outputs": [],
   "source": [
    "def majority_vote_initialization(annotation_matrix):\n",
    "    \"\"\"\n",
    "    Perform majority vote initialization for the hidden labels.\n",
    "    Args:\n",
    "    - annotation_matrix (np.ndarray): Matrix with items in rows and annotations in columns.\n",
    "    \n",
    "    Returns:\n",
    "    - np.ndarray: Array of initially hidden labels based on the majority vote.\n",
    "    \"\"\"\n",
    "    majority_votes, _ = mode(annotation_matrix, axis=1)\n",
    "    return majority_votes.flatten()"
   ]
  },
  {
   "cell_type": "code",
   "execution_count": null,
   "id": "20a8b8ca",
   "metadata": {},
   "outputs": [],
   "source": [
    "### i am accepting this for the time being. gives correct result for the example in the lecture\n",
    "def calculate_confusion_matrices(annotation_matrix, label_probs_mat, num_classes):\n",
    "    \"\"\"\n",
    "    calculate confusion matrices for each annotator.\n",
    "    args:\n",
    "    - annotation_matrix (np.ndarray): Matrix with items in rows and annotations in columns.\n",
    "    - label_probs (np.ndarray): Probability matrix for each item and class.\n",
    "    - num_classes (int): Number of possible classes.\n",
    "    \n",
    "    returns:\n",
    "    - np.ndarray: Confusion matrices for each annotator.\n",
    "    \"\"\"\n",
    "    num_annotators = annotation_matrix.shape[1]\n",
    "    confusion_matrices = np.zeros((num_annotators, num_classes, num_classes))\n",
    "    \n",
    "    for j in range(num_annotators):\n",
    "        for k in range(num_classes):\n",
    "            for l in range(num_classes):\n",
    "                confusion_matrices[j, k, l] = np.sum((annotation_matrix[:, j] == l) * label_probs_mat[:,k])\n",
    "            confusion_matrices[j, k, :] /= np.sum(label_probs_mat[:,k])\n",
    "    return confusion_matrices\n"
   ]
  },
  {
   "cell_type": "code",
   "execution_count": null,
   "id": "0cf5edb5",
   "metadata": {},
   "outputs": [],
   "source": [
    "# M and E step\n",
    "def m_step(annotation_matrix, label_probs, num_classes):\n",
    "    \"\"\"\n",
    "    M-step of the Dawid and Skene algorithm.\n",
    "    Args:\n",
    "    - annotation_matrix (np.ndarray): Matrix with items in rows and annotations in columns.\n",
    "    - label_probs (np.ndarray): Updated label probabilities for each item and class.\n",
    "    - num_classes (int): Number of possible classes.\n",
    "    \n",
    "    Returns:\n",
    "    - Tuple[np.ndarray, np.ndarray]: Updated class probabilities and confusion matrices.\n",
    "    \"\"\"\n",
    "    num_items = annotation_matrix.shape[0]\n",
    "    class_probs = np.sum(label_probs, axis=0) / num_items\n",
    "    confusion_matrices = calculate_confusion_matrices(annotation_matrix, label_probs, num_classes)\n",
    "    return class_probs, confusion_matrices\n",
    "\n",
    "\n",
    "def e_step(annotation_matrix, confusion_matrices, class_probs): # im trusting this for the time being. gives correct result\n",
    "    \"\"\"\n",
    "    E-step of the Dawid and Skene algorithm.\n",
    "    Args:\n",
    "    - annotation_matrix (np.ndarray): Matrix with items in rows and annotations in columns.\n",
    "    - confusion_matrices (np.ndarray): Confusion matrices for each annotator.\n",
    "    - class_probs (np.ndarray): Probability of each class.\n",
    "    \n",
    "    Returns:\n",
    "    - np.ndarray: Updated label probabilities for each item and class.\n",
    "    \"\"\"\n",
    "    num_items, num_annotators = annotation_matrix.shape\n",
    "    num_classes = class_probs.shape[0]\n",
    "    label_probs = np.zeros((num_items, num_classes)) # new label distribution matrix (denoted as Z in lecture)\n",
    "    \n",
    "    for i in range(num_items):\n",
    "        for k in range(num_classes):\n",
    "            prob = class_probs[k]\n",
    "            for j in range(num_annotators):\n",
    "                prob *= confusion_matrices[j, k, annotation_matrix[i, j]]\n",
    "            label_probs[i, k] = prob\n",
    "        label_probs[i, :] /= np.sum(label_probs[i, :])\n",
    "    return label_probs"
   ]
  },
  {
   "cell_type": "code",
   "execution_count": null,
   "id": "f57f041d",
   "metadata": {},
   "outputs": [],
   "source": [
    "def has_converged(old_probs, new_probs, tolerance):\n",
    "    \"\"\"\n",
    "    Check if the algorithm has converged.\n",
    "    Args:\n",
    "    - old_probs (np.ndarray): Previous class probabilities.\n",
    "    - new_probs (np.ndarray): New class probabilities.\n",
    "    - tolerance (float): Convergence tolerance.\n",
    "    \n",
    "    Returns:\n",
    "    - bool: True if converged, otherwise False.\n",
    "    \"\"\"\n",
    "    return np.max(np.abs(new_probs - old_probs)) < tolerance\n"
   ]
  },
  {
   "cell_type": "code",
   "execution_count": null,
   "id": "a20a8067",
   "metadata": {},
   "outputs": [],
   "source": [
    "# Code to estimate labels distributions\n",
    "def indiv_annotation_label_distribution(annotation_matrix, num_class:int, num_items:int):\n",
    "    '''\n",
    "    annotation matrix (numpy array): Shape (num_items, num_annotators)\n",
    "    num_class:\n",
    "    num_items:\n",
    "\n",
    "    Return: 1. label proportion matrix\n",
    "            2. estimated label proportions\n",
    "    '''\n",
    "    # Initialize the label distribution matrix\n",
    "    label_distn_matrix = np.zeros(shape=(num_items, num_class))\n",
    "    num_annotators = annotation_matrix.shape[1]\n",
    "\n",
    "    # Calculate the distribution of labels for each item\n",
    "    for i in range(num_items):\n",
    "        # Count the occurrence of each class label for the i-th item\n",
    "        labels, counts = np.unique(annotation_matrix[i, :], return_counts=True)\n",
    "        \n",
    "        # Calculate the proportion of each label and update the label distribution matrix\n",
    "        for label, count in zip(labels, counts):\n",
    "            label_distn_matrix[i, label] = count / num_annotators\n",
    "\n",
    "    avg_label_distn = np.mean(label_distn_matrix, axis=0) \n",
    "\n",
    "    return label_distn_matrix, avg_label_distn\n"
   ]
  },
  {
   "cell_type": "code",
   "execution_count": 83,
   "id": "initial_id",
   "metadata": {
    "ExecuteTime": {
     "end_time": "2024-06-23T23:51:44.736550Z",
     "start_time": "2024-06-23T23:51:44.711843Z"
    }
   },
   "outputs": [],
   "source": [
    "def dawid_skene(annotation_matrix, num_classes, tol=1e-4, max_iter=100):\n",
    "    \"\"\"\n",
    "    Run the Dawid and Skene algorithm.\n",
    "    Args:\n",
    "    - annotation_matrix (np.ndarray): Matrix with items in rows and annotations in columns.\n",
    "    - num_classes (int): Number of possible classes.\n",
    "    - tol (float): Convergence tolerance.\n",
    "    - max_iter (int): Maximum number of iterations.\n",
    "    \n",
    "    Returns:\n",
    "    - Tuple[np.ndarray, np.ndarray, np.ndarray]: Final class probabilities, confusion matrices, and label probabilities.\n",
    "    \"\"\"\n",
    "\n",
    "    hidden_labels = majority_vote_initialization(annotation_matrix)\n",
    "    print(\"hidden labels are:\"); print(hidden_labels)\n",
    "    num_items = annotation_matrix.shape[0]\n",
    "    label_probs, class_probs = indiv_annotation_label_distribution(annotation_matrix, num_classes,\n",
    "                                                                num_items = num_items)\n",
    "    print(\"label probs (matrix) are:\"); print(label_probs)\n",
    "    print(\"class_probs (averaged estimate from label prob matrix):\"); print(class_probs)\n",
    "\n",
    "    \n",
    "    confusion_matrices = calculate_confusion_matrices(annotation_matrix, label_probs, num_classes)\n",
    "    print(\"confusion matrices are:\"); print(confusion_matrices)\n",
    "    \n",
    "    for iteration in range(max_iter):\n",
    "        new_label_probs = e_step(annotation_matrix, confusion_matrices, class_probs)\n",
    "        if iteration==0:\n",
    "            print(\"after first E step:, new labels probs are:\")\n",
    "            print(new_label_probs)\n",
    "        new_class_probs, new_confusion_matrices = m_step(annotation_matrix, new_label_probs, num_classes)\n",
    "        \n",
    "        if has_converged(class_probs, new_class_probs, tol):\n",
    "            print(f\"---converged at the iteration count---: {iteration}\")\n",
    "            break\n",
    "        \n",
    "        class_probs = new_class_probs.copy()\n",
    "        confusion_matrices = new_confusion_matrices.copy()\n",
    "        \n",
    "        # print(f\"Iteration {iteration + 1}\")\n",
    "        # print(\"Class probabilities:\", class_probs)\n",
    "        # print(\"Confusion matrices:\", confusion_matrices)\n",
    "        # print(\"Label probabilities:\", new_label_probs)\n",
    "\n",
    "    final_labels = np.argmax(new_label_probs, axis=1)\n",
    "    return class_probs, confusion_matrices, new_label_probs, final_labels\n",
    "\n"
   ]
  },
  {
   "cell_type": "code",
   "execution_count": 84,
   "id": "22262bc8",
   "metadata": {},
   "outputs": [
    {
     "name": "stdout",
     "output_type": "stream",
     "text": [
      "hidden labels are:\n",
      "[0 1 1 0 0]\n",
      "label probs (matrix) are:\n",
      "[[0.66666667 0.33333333]\n",
      " [0.33333333 0.66666667]\n",
      " [0.33333333 0.66666667]\n",
      " [0.66666667 0.33333333]\n",
      " [0.66666667 0.33333333]]\n",
      "class_probs (averaged estimate from label prob matrix):\n",
      "[0.53333333 0.46666667]\n",
      "confusion matrices are:\n",
      "[[[0.875      0.125     ]\n",
      "  [0.71428571 0.28571429]]\n",
      "\n",
      " [[0.5        0.5       ]\n",
      "  [0.28571429 0.71428571]]\n",
      "\n",
      " [[0.375      0.625     ]\n",
      "  [0.42857143 0.57142857]]]\n",
      "after first E step:, new labels probs are:\n",
      "[[0.46164199 0.53835801]\n",
      " [0.5173454  0.4826546 ]\n",
      " [0.23444976 0.76555024]\n",
      " [0.72823779 0.27176221]\n",
      " [0.72823779 0.27176221]]\n",
      "---converged at the iteration count---: 13\n",
      "---FINAL RESULTS---:\n",
      "1. Final class probabilities: [0.59988622 0.40011378]\n",
      "2. Final label probabilities: [[4.52934089e-07 9.99999547e-01]\n",
      " [9.99714697e-01 2.85303313e-04]\n",
      " [7.38580305e-51 1.00000000e+00]\n",
      " [1.00000000e+00 1.78630045e-28]\n",
      " [1.00000000e+00 1.78630045e-28]]\n",
      "3. Final labels estimated:\n",
      "[1 0 1 0 0]\n"
     ]
    }
   ],
   "source": [
    "# example from the lecture\n",
    "annotation_matrix = np.array([[0,1,0],\n",
    "                            [0,1,1],\n",
    "                            [1,1,0],\n",
    "                            [0,0,1],\n",
    "                            [0,0,1]])\n",
    "num_classes = 2\n",
    "class_probs, confusion_matrices, label_probs, final_labels = dawid_skene(annotation_matrix, num_classes)\n",
    "print(\"---FINAL RESULTS---:\")\n",
    "print(\"1. Final class probabilities:\", class_probs)\n",
    "print(\"2. Final label probabilities:\", label_probs)\n",
    "print(\"3. Final labels estimated:\"); print(final_labels)"
   ]
  },
  {
   "cell_type": "code",
   "execution_count": 77,
   "id": "3a2fb90e",
   "metadata": {},
   "outputs": [
    {
     "name": "stdout",
     "output_type": "stream",
     "text": [
      "[1 1 0]\n"
     ]
    }
   ],
   "source": [
    "import numpy as np\n",
    "\n",
    "# Your final label probability matrix\n",
    "label_prob_matrix = np.array([\n",
    "    [0.1, 0.9],\n",
    "    [0.4,0.6],\n",
    "    [0.89,0.11]\n",
    "])\n",
    "\n",
    "# Find the class index with the highest probability for each item\n",
    "final_labels = np.argmax(label_prob_matrix, axis=1)\n",
    "\n",
    "print(final_labels)"
   ]
  },
  {
   "cell_type": "code",
   "execution_count": null,
   "id": "cd462206c4b34e12",
   "metadata": {
    "ExecuteTime": {
     "end_time": "2024-06-23T23:51:45.414172Z",
     "start_time": "2024-06-23T23:51:45.320134Z"
    }
   },
   "outputs": [],
   "source": [
    "def plot_annotation_matrix(annotation_matrix):\n",
    "    fig, ax = plt.subplots(figsize=(8, 6))\n",
    "    \n",
    "    # Display the annotation matrix using imshow\n",
    "    cax = ax.imshow(annotation_matrix, cmap='Blues')\n",
    "\n",
    "    # Add annotations to each cell\n",
    "    for i in range(annotation_matrix.shape[0]):\n",
    "        for j in range(annotation_matrix.shape[1]):\n",
    "            text = ax.text(j, i, annotation_matrix[i, j],\n",
    "                           ha='center', va='center', color='black')\n",
    "\n",
    "    # Add a colorbar\n",
    "    fig.colorbar(cax)\n",
    "\n",
    "    # Set labels and title\n",
    "    ax.set_title('Annotation Matrix')\n",
    "    ax.set_xlabel('X Axis')\n",
    "    ax.set_ylabel('Y Axis')\n",
    "\n",
    "    # Display the plot\n",
    "    plt.show()\n",
    "plot_annotation_matrix(annotation_matrix)"
   ]
  },
  {
   "cell_type": "code",
   "execution_count": null,
   "id": "c2e8b9f59aaac781",
   "metadata": {
    "ExecuteTime": {
     "end_time": "2024-06-23T23:51:46.115293Z",
     "start_time": "2024-06-23T23:51:46.110366Z"
    }
   },
   "outputs": [],
   "source": [
    "def plot_confusion_matrices(confusion_matrices, n_classes):\n",
    "    n_annotators = len(confusion_matrices)\n",
    "    fig, axes = plt.subplots(1, n_annotators, figsize=(n_annotators * 10, 10))\n",
    "    \n",
    "    # Ensure axes is iterable if there's only one annotator\n",
    "    if n_annotators == 1:\n",
    "        axes = [axes]\n",
    "\n",
    "    for j, ax in enumerate(axes):\n",
    "        cax = ax.matshow(confusion_matrices[j], cmap='Blues')\n",
    "        fig.colorbar(cax, ax=ax, fraction=0.046, pad=0.04)\n",
    "        \n",
    "        ax.set_title(f'Annotator {j+1}', fontsize=24, pad=20)\n",
    "        ax.set_xlabel('True Label', fontsize=20, labelpad=15)\n",
    "        ax.set_ylabel('Assigned Label', fontsize=20, labelpad=15)\n",
    "        \n",
    "        # Set tick parameters\n",
    "        ax.tick_params(axis='both', which='major', labelsize=16)\n",
    "        \n",
    "        # Set ticks and labels\n",
    "        ticks = np.arange(n_classes)\n",
    "        ax.set_xticks(ticks)\n",
    "        ax.set_yticks(ticks)\n",
    "        ax.set_xticklabels(ticks)\n",
    "        ax.set_yticklabels(ticks)\n",
    "        \n",
    "        # Annotate each cell with the numeric value\n",
    "        for i in range(n_classes):\n",
    "            for k in range(n_classes):\n",
    "                value = confusion_matrices[j][i, k]\n",
    "                text_color = 'white' if value > 0.5 else 'black'\n",
    "                ax.text(k, i, f'{value:.2f}', ha='center', va='center', \n",
    "                        color=text_color, fontsize=16, fontweight='bold')\n",
    "\n",
    "    plt.tight_layout(pad=3.0)\n",
    "    plt.show()"
   ]
  },
  {
   "cell_type": "code",
   "execution_count": null,
   "id": "6c96eaeb933b87ea",
   "metadata": {
    "ExecuteTime": {
     "end_time": "2024-06-23T23:51:47.052273Z",
     "start_time": "2024-06-23T23:51:46.617812Z"
    }
   },
   "outputs": [],
   "source": [
    "plot_confusion_matrices(confusion_matrices, num_classes)"
   ]
  }
 ],
 "metadata": {
  "kernelspec": {
   "display_name": "Python 3 (ipykernel)",
   "language": "python",
   "name": "python3"
  },
  "language_info": {
   "codemirror_mode": {
    "name": "ipython",
    "version": 3
   },
   "file_extension": ".py",
   "mimetype": "text/x-python",
   "name": "python",
   "nbconvert_exporter": "python",
   "pygments_lexer": "ipython3",
   "version": "3.8.8"
  }
 },
 "nbformat": 4,
 "nbformat_minor": 5
}
